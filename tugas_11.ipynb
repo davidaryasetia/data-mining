{
 "cells": [
  {
   "cell_type": "code",
   "execution_count": 87,
   "metadata": {},
   "outputs": [
    {
     "data": {
      "text/html": [
       "<div>\n",
       "<style scoped>\n",
       "    .dataframe tbody tr th:only-of-type {\n",
       "        vertical-align: middle;\n",
       "    }\n",
       "\n",
       "    .dataframe tbody tr th {\n",
       "        vertical-align: top;\n",
       "    }\n",
       "\n",
       "    .dataframe thead th {\n",
       "        text-align: right;\n",
       "    }\n",
       "</style>\n",
       "<table border=\"1\" class=\"dataframe\">\n",
       "  <thead>\n",
       "    <tr style=\"text-align: right;\">\n",
       "      <th></th>\n",
       "      <th>InvoiceNo</th>\n",
       "      <th>StockCode</th>\n",
       "      <th>Qty</th>\n",
       "      <th>InvoiceDate</th>\n",
       "      <th>CustomerID</th>\n",
       "      <th>Country</th>\n",
       "    </tr>\n",
       "  </thead>\n",
       "  <tbody>\n",
       "    <tr>\n",
       "      <th>0</th>\n",
       "      <td>537626</td>\n",
       "      <td>22725</td>\n",
       "      <td>830</td>\n",
       "      <td>12/7/2010 14:57</td>\n",
       "      <td>12347</td>\n",
       "      <td>Iceland</td>\n",
       "    </tr>\n",
       "    <tr>\n",
       "      <th>1</th>\n",
       "      <td>537626</td>\n",
       "      <td>22729</td>\n",
       "      <td>948</td>\n",
       "      <td>12/7/2010 14:57</td>\n",
       "      <td>12347</td>\n",
       "      <td>Iceland</td>\n",
       "    </tr>\n",
       "    <tr>\n",
       "      <th>2</th>\n",
       "      <td>537626</td>\n",
       "      <td>22195</td>\n",
       "      <td>695</td>\n",
       "      <td>12/7/2010 14:57</td>\n",
       "      <td>12347</td>\n",
       "      <td>Iceland</td>\n",
       "    </tr>\n",
       "    <tr>\n",
       "      <th>3</th>\n",
       "      <td>542237</td>\n",
       "      <td>22725</td>\n",
       "      <td>636</td>\n",
       "      <td>1/26/2011 14:30</td>\n",
       "      <td>12347</td>\n",
       "      <td>Iceland</td>\n",
       "    </tr>\n",
       "    <tr>\n",
       "      <th>4</th>\n",
       "      <td>542237</td>\n",
       "      <td>22729</td>\n",
       "      <td>536</td>\n",
       "      <td>1/26/2011 14:30</td>\n",
       "      <td>12347</td>\n",
       "      <td>Iceland</td>\n",
       "    </tr>\n",
       "  </tbody>\n",
       "</table>\n",
       "</div>"
      ],
      "text/plain": [
       "   InvoiceNo  StockCode  Qty      InvoiceDate  CustomerID  Country\n",
       "0     537626      22725  830  12/7/2010 14:57       12347  Iceland\n",
       "1     537626      22729  948  12/7/2010 14:57       12347  Iceland\n",
       "2     537626      22195  695  12/7/2010 14:57       12347  Iceland\n",
       "3     542237      22725  636  1/26/2011 14:30       12347  Iceland\n",
       "4     542237      22729  536  1/26/2011 14:30       12347  Iceland"
      ]
     },
     "execution_count": 87,
     "metadata": {},
     "output_type": "execute_result"
    }
   ],
   "source": [
    "    # 1. dataset <- transaction.csv, dan tampilkan\n",
    "    import pandas as pd\n",
    "\n",
    "    dataset = pd.read_csv('transaction.csv')\n",
    "    dataset.head()"
   ]
  },
  {
   "cell_type": "code",
   "execution_count": 88,
   "metadata": {},
   "outputs": [
    {
     "data": {
      "text/html": [
       "<div>\n",
       "<style scoped>\n",
       "    .dataframe tbody tr th:only-of-type {\n",
       "        vertical-align: middle;\n",
       "    }\n",
       "\n",
       "    .dataframe tbody tr th {\n",
       "        vertical-align: top;\n",
       "    }\n",
       "\n",
       "    .dataframe thead th {\n",
       "        text-align: right;\n",
       "    }\n",
       "</style>\n",
       "<table border=\"1\" class=\"dataframe\">\n",
       "  <thead>\n",
       "    <tr style=\"text-align: right;\">\n",
       "      <th></th>\n",
       "      <th>Qty</th>\n",
       "      <th>Country</th>\n",
       "      <th>Month</th>\n",
       "      <th>Year</th>\n",
       "    </tr>\n",
       "  </thead>\n",
       "  <tbody>\n",
       "    <tr>\n",
       "      <th>1185</th>\n",
       "      <td>628</td>\n",
       "      <td>Germany</td>\n",
       "      <td>5</td>\n",
       "      <td>2011</td>\n",
       "    </tr>\n",
       "    <tr>\n",
       "      <th>1186</th>\n",
       "      <td>981</td>\n",
       "      <td>Germany</td>\n",
       "      <td>5</td>\n",
       "      <td>2011</td>\n",
       "    </tr>\n",
       "    <tr>\n",
       "      <th>1187</th>\n",
       "      <td>212</td>\n",
       "      <td>Germany</td>\n",
       "      <td>5</td>\n",
       "      <td>2011</td>\n",
       "    </tr>\n",
       "    <tr>\n",
       "      <th>1188</th>\n",
       "      <td>910</td>\n",
       "      <td>Germany</td>\n",
       "      <td>5</td>\n",
       "      <td>2011</td>\n",
       "    </tr>\n",
       "    <tr>\n",
       "      <th>1189</th>\n",
       "      <td>668</td>\n",
       "      <td>Germany</td>\n",
       "      <td>5</td>\n",
       "      <td>2011</td>\n",
       "    </tr>\n",
       "  </tbody>\n",
       "</table>\n",
       "</div>"
      ],
      "text/plain": [
       "      Qty  Country  Month  Year\n",
       "1185  628  Germany      5  2011\n",
       "1186  981  Germany      5  2011\n",
       "1187  212  Germany      5  2011\n",
       "1188  910  Germany      5  2011\n",
       "1189  668  Germany      5  2011"
      ]
     },
     "execution_count": 88,
     "metadata": {},
     "output_type": "execute_result"
    }
   ],
   "source": [
    "# 2. data <- ambillah data pada dataset untuk fitur Qty, Country (“Germany”), month, year (“2011”)\n",
    "dataset['InvoiceDate'] = pd.to_datetime(dataset['InvoiceDate'])\n",
    "\n",
    "dataset['Month'] = dataset['InvoiceDate'].dt.month\n",
    "dataset['Year'] = dataset['InvoiceDate'].dt.year\n",
    "\n",
    "# Filter data for 'Country' == 'Germany' and 'Year' == 2011, selecting only relevant columns\n",
    "data = dataset[(dataset['Country'] == 'Germany') & (dataset['Year'] == 2011)][['Qty', 'Country', 'Month', 'Year']]\n",
    "data.head()"
   ]
  },
  {
   "cell_type": "code",
   "execution_count": 89,
   "metadata": {},
   "outputs": [
    {
     "data": {
      "text/html": [
       "<div>\n",
       "<style scoped>\n",
       "    .dataframe tbody tr th:only-of-type {\n",
       "        vertical-align: middle;\n",
       "    }\n",
       "\n",
       "    .dataframe tbody tr th {\n",
       "        vertical-align: top;\n",
       "    }\n",
       "\n",
       "    .dataframe thead th {\n",
       "        text-align: right;\n",
       "    }\n",
       "</style>\n",
       "<table border=\"1\" class=\"dataframe\">\n",
       "  <thead>\n",
       "    <tr style=\"text-align: right;\">\n",
       "      <th></th>\n",
       "      <th>Month</th>\n",
       "      <th>TotalQty</th>\n",
       "    </tr>\n",
       "  </thead>\n",
       "  <tbody>\n",
       "    <tr>\n",
       "      <th>0</th>\n",
       "      <td>1</td>\n",
       "      <td>101266</td>\n",
       "    </tr>\n",
       "    <tr>\n",
       "      <th>1</th>\n",
       "      <td>2</td>\n",
       "      <td>37800</td>\n",
       "    </tr>\n",
       "    <tr>\n",
       "      <th>2</th>\n",
       "      <td>3</td>\n",
       "      <td>72084</td>\n",
       "    </tr>\n",
       "    <tr>\n",
       "      <th>3</th>\n",
       "      <td>4</td>\n",
       "      <td>60993</td>\n",
       "    </tr>\n",
       "    <tr>\n",
       "      <th>4</th>\n",
       "      <td>5</td>\n",
       "      <td>103749</td>\n",
       "    </tr>\n",
       "  </tbody>\n",
       "</table>\n",
       "</div>"
      ],
      "text/plain": [
       "   Month  TotalQty\n",
       "0      1    101266\n",
       "1      2     37800\n",
       "2      3     72084\n",
       "3      4     60993\n",
       "4      5    103749"
      ]
     },
     "execution_count": 89,
     "metadata": {},
     "output_type": "execute_result"
    }
   ],
   "source": [
    "#3. TotalQty <- ambillah month dari data dan akumulasi Qty pada bulan yang sama, dan tampilkan\n",
    "totalQty = data.groupby('Month')['Qty'].sum().reset_index()\n",
    "totalQty.columns = ['Month', 'TotalQty']\n",
    "totalQty.head()"
   ]
  },
  {
   "cell_type": "code",
   "execution_count": 90,
   "metadata": {},
   "outputs": [
    {
     "data": {
      "image/png": "[encoded data removed]",
      "text/plain": [
       "<Figure size 1000x600 with 1 Axes>"
      ]
     },
     "metadata": {},
     "output_type": "display_data"
    }
   ],
   "source": [
    "#4. Visualisasikan pergerakan nilai totalQty dimana sumbu x=month dan sumbu y=total Qty\n",
    "# Importing necessary libraries for visualization\n",
    "# Importing necessary libraries for visualization\n",
    "import matplotlib.pyplot as plt\n",
    "\n",
    "# Plotting the movement of TotalQty with Month as the x-axis and TotalQty as the y-axis\n",
    "plt.figure(figsize=(10, 6))\n",
    "plt.plot(totalQty['Month'], totalQty['TotalQty'], marker='o', linestyle='-')\n",
    "plt.scatter(totalQty['Month'], totalQty['TotalQty'], color='red')  # Highlighting data points\n",
    "\n",
    "# Setting labels and title\n",
    "plt.xlabel('Month')\n",
    "plt.ylabel('Total Qty')\n",
    "plt.title('Movement of Total Qty per Month')\n",
    "\n",
    "# Displaying the plot\n",
    "plt.show()\n",
    "\n"
   ]
  },
  {
   "cell_type": "code",
   "execution_count": null,
   "metadata": {},
   "outputs": [
    {
     "name": "stdout",
     "output_type": "stream",
     "text": [
      "Predictive Mining dengan Linear Regression 117751.75757575757\n"
     ]
    }
   ],
   "source": [
    "# 5. PredictedQty <- prediksikan total Qty dari TotalQty pada bulan Januari 2012 dengan Linear Regression\n",
    "from sklearn.linear_model import LinearRegression\n",
    "import numpy as np\n",
    "\n",
    "# Preparing data for linear regression: Month as X and TotalQty as y\n",
    "X = totalQty[['Month']].values  # Reshape month data for model input\n",
    "y = totalQty['TotalQty'].values  # TotalQty as the target variable\n",
    "\n",
    "linreg = LinearRegression()\n",
    "linreg.fit(X, y)\n",
    "\n",
    "# Predicting TotalQty for January 2012 (Month = 13)\n",
    "# predicted_month = np.array([[13]])\n",
    "predicted_qty = linreg.predict([[13]])\n",
    "\n",
    "print(\"Predictive Mining dengan Linear Regression\", predicted_qty[0])"
   ]
  }
 ],
 "metadata": {
  "kernelspec": {
   "display_name": "Python 3",
   "language": "python",
   "name": "python3"
  },
  "language_info": {
   "codemirror_mode": {
    "name": "ipython",
    "version": 3
   },
   "file_extension": ".py",
   "mimetype": "text/x-python",
   "name": "python",
   "nbconvert_exporter": "python",
   "pygments_lexer": "ipython3",
   "version": "3.12.6"
  }
 },
 "nbformat": 4,
 "nbformat_minor": 2
}
